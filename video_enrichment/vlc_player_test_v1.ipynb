{
 "cells": [
  {
   "cell_type": "markdown",
   "metadata": {},
   "source": [
    "\n",
    "\n",
    "VLC API:\n",
    "http://www.olivieraubert.net/vlc/python-ctypes/doc/\n",
    "\n"
   ]
  },
  {
   "cell_type": "code",
   "execution_count": 2,
   "metadata": {},
   "outputs": [
    {
     "data": {
      "text/html": [
       "<div>\n",
       "<style scoped>\n",
       "    .dataframe tbody tr th:only-of-type {\n",
       "        vertical-align: middle;\n",
       "    }\n",
       "\n",
       "    .dataframe tbody tr th {\n",
       "        vertical-align: top;\n",
       "    }\n",
       "\n",
       "    .dataframe thead th {\n",
       "        text-align: right;\n",
       "    }\n",
       "</style>\n",
       "<table border=\"1\" class=\"dataframe\">\n",
       "  <thead>\n",
       "    <tr style=\"text-align: right;\">\n",
       "      <th></th>\n",
       "      <th>search_term</th>\n",
       "      <th>url</th>\n",
       "    </tr>\n",
       "  </thead>\n",
       "  <tbody>\n",
       "    <tr>\n",
       "      <th>0</th>\n",
       "      <td>sheep running in field</td>\n",
       "      <td>https://www.youtube.com/watch?v=pUrYNXQIiSM</td>\n",
       "    </tr>\n",
       "    <tr>\n",
       "      <th>1</th>\n",
       "      <td>sheep running in field</td>\n",
       "      <td>https://www.youtube.com/watch?v=6hFMaRFyVSU</td>\n",
       "    </tr>\n",
       "    <tr>\n",
       "      <th>2</th>\n",
       "      <td>sheep running in field</td>\n",
       "      <td>https://www.youtube.com/watch?v=qLDhx4SDKUI</td>\n",
       "    </tr>\n",
       "    <tr>\n",
       "      <th>3</th>\n",
       "      <td>sheep running in field</td>\n",
       "      <td>https://www.youtube.com/watch?v=jS1HxsnhA3c</td>\n",
       "    </tr>\n",
       "    <tr>\n",
       "      <th>4</th>\n",
       "      <td>sheep running in field</td>\n",
       "      <td>https://www.youtube.com/watch?v=UrKkchVOOAs</td>\n",
       "    </tr>\n",
       "  </tbody>\n",
       "</table>\n",
       "</div>"
      ],
      "text/plain": [
       "               search_term                                          url\n",
       "0  sheep running in field   https://www.youtube.com/watch?v=pUrYNXQIiSM\n",
       "1  sheep running in field   https://www.youtube.com/watch?v=6hFMaRFyVSU\n",
       "2  sheep running in field   https://www.youtube.com/watch?v=qLDhx4SDKUI\n",
       "3  sheep running in field   https://www.youtube.com/watch?v=jS1HxsnhA3c\n",
       "4  sheep running in field   https://www.youtube.com/watch?v=UrKkchVOOAs"
      ]
     },
     "execution_count": 2,
     "metadata": {},
     "output_type": "execute_result"
    }
   ],
   "source": [
    "# remove warnings\n",
    "import warnings\n",
    "warnings.filterwarnings('ignore')\n",
    "\n",
    "%matplotlib inline\n",
    "import pandas as pd\n",
    "from matplotlib import pyplot as plt\n",
    "import matplotlib\n",
    "matplotlib.style.use('ggplot')\n",
    "import numpy as np\n",
    "import vlc\n",
    "\n",
    "from datetime import datetime\n",
    "\n",
    "# load the data\n",
    "df = pd.read_csv('./playlists/youtube_videos.csv') \n",
    "df.head()\n"
   ]
  },
  {
   "cell_type": "code",
   "execution_count": 3,
   "metadata": {},
   "outputs": [],
   "source": [
    "import pafy\n",
    "import time \n",
    "\n",
    "video = pafy.new(df.iloc[1].url)\n",
    "best = video.getbest()\n",
    "best_url = best.url\n",
    "\n",
    "instance = vlc.Instance()\n",
    "mediaplayer = instance.media_player_new(uri=best_url)\n",
    "# media = instance.media_new(best_url)\n",
    "# mediaplayer.set_media(media)\n",
    "# media.parse()\n",
    "# mediaplayer.audio_set_volume(50)\n",
    "mediaplayer.play()\n",
    "mediaplayer.audio_set_volume(100)\n",
    "\n",
    "time.sleep(20)\n",
    "mediaplayer.stop()\n"
   ]
  },
  {
   "cell_type": "code",
   "execution_count": 12,
   "metadata": {},
   "outputs": [],
   "source": [
    "mediaplayer.stop()"
   ]
  },
  {
   "cell_type": "code",
   "execution_count": 51,
   "metadata": {},
   "outputs": [
    {
     "name": "stdout",
     "output_type": "stream",
     "text": [
      "\n",
      "title Lambs running & playing\n",
      "rating 5.0\n",
      "best url https://r4---sn-nx5e6nez.googlevideo.com/videoplayback?expire=1591841195&ei=Sz3hXqqVNMa5kwaFsIiYDg&ip=24.20.48.222&id=o-ACjyQs9xMvbkG4fAOVhj6s9aIq-E12nHbDLmXSWbvMdt&itag=22&source=youtube&requiressl=yes&mh=Ov&mm=31%2C26&mn=sn-nx5e6nez%2Csn-a5msen7s&ms=au%2Conr&mv=m&mvi=3&pl=15&initcwndbps=2021250&vprv=1&mime=video%2Fmp4&ratebypass=yes&dur=558.393&lmt=1555017478460071&mt=1591819474&fvip=4&c=WEB&txp=2216222&sparams=expire%2Cei%2Cip%2Cid%2Citag%2Csource%2Crequiressl%2Cvprv%2Cmime%2Cratebypass%2Cdur%2Clmt&sig=AOq0QJ8wRgIhAPUzoUYlv8yjJptmvqJ4boIQlFV9JMcfGxMPZJlmIF5wAiEAm8ePaeMs1zlz10HWXg0Zhf_1CaVcMPCD8SdRlz3p9_w%3D&lsparams=mh%2Cmm%2Cmn%2Cms%2Cmv%2Cmvi%2Cpl%2Cinitcwndbps&lsig=AG3C_xAwRQIhAJItT9O0yhRmlmAIvHkwGmiMMLbN0J_Zbo-cqg1rg6oOAiAbA_QL2kQbTvtYYnbr1sGIxuXsLFeRUerbU3Cwh8oJCA%3D%3D\n",
      "\n",
      "title Yard Work. New Imported Australian bloodlines to Devonairs kelpie stud.\n",
      "rating 4.4679179\n",
      "best url https://r2---sn-nx5e6n76.googlevideo.com/videoplayback?expire=1591841196&ei=TD3hXseYM86OkwaZ34qADw&ip=24.20.48.222&id=o-AJ6Nci1TCTgiJP5avHuV6elBS8txfaffsQb9eigGoDg5&itag=22&source=youtube&requiressl=yes&mh=H_&mm=31%2C26&mn=sn-nx5e6n76%2Csn-a5meknzl&ms=au%2Conr&mv=m&mvi=1&pl=15&initcwndbps=2007500&vprv=1&mime=video%2Fmp4&ratebypass=yes&dur=230.713&lmt=1582219342325934&mt=1591819474&fvip=2&beids=9466587&c=WEB&txp=5532432&sparams=expire%2Cei%2Cip%2Cid%2Citag%2Csource%2Crequiressl%2Cvprv%2Cmime%2Cratebypass%2Cdur%2Clmt&sig=AOq0QJ8wRAIgGYAHvDIgtx0viWA5HgOkxekc1o0rGVv-estFP9a04Z4CIGKs4qKEumRbVzqgaJnTIEMOJAST2R64m6zZ5TfJ-hGn&lsparams=mh%2Cmm%2Cmn%2Cms%2Cmv%2Cmvi%2Cpl%2Cinitcwndbps&lsig=AG3C_xAwRgIhAPCjol-7kBC_8bs2o4exuihGFtOaFJCijSZ1eCwgzzg3AiEA5psSfhw_bikhZBYn2HQgDQmL6INaLC2eBwLGuXNWqeU%3D\n",
      "\n",
      "title Sheep running around and saying baaaaa! | BEST SHEEP VIDEO IN THE WORLD | MUST WATCH\n",
      "rating 4.930131\n",
      "best url https://r5---sn-nx5s7n76.googlevideo.com/videoplayback?expire=1591841197&ei=TT3hXp6TGYikkwaz5qe4Cg&ip=24.20.48.222&id=o-AFwYDgcR8UjXWkZvGIYAJyy4OaLkM4M7KgQRwgIxrbB1&itag=22&source=youtube&requiressl=yes&mh=8B&mm=31%2C29&mn=sn-nx5s7n76%2Csn-nx57ynlz&ms=au%2Crdu&mv=m&mvi=4&pl=15&initcwndbps=2021250&vprv=1&mime=video%2Fmp4&ratebypass=yes&dur=50.642&lmt=1470923844402639&mt=1591819474&fvip=5&c=WEB&sparams=expire%2Cei%2Cip%2Cid%2Citag%2Csource%2Crequiressl%2Cvprv%2Cmime%2Cratebypass%2Cdur%2Clmt&sig=AOq0QJ8wRgIhAOQHxHBhB5BsBJaogVDfXjT_lQJAIM1HR3Ug1nMwY1zrAiEAwWMKfySQ8bK7SVZA6VrLsMJBXUz6AHIzZ9MVlmP8nYs%3D&lsparams=mh%2Cmm%2Cmn%2Cms%2Cmv%2Cmvi%2Cpl%2Cinitcwndbps&lsig=AG3C_xAwRAIgQ6ykvrVkKl6Qnzb-tpjLRDNuRCyuC7QX8M5NH2W_logCIG40l24tJUIuwlQJDATJPGaFqPzKqwH38uiZtbegpmd4\n",
      "\n",
      "title Sheep running.AVI\n",
      "rating 4.8024693\n",
      "best url https://r1---sn-nx5s7n7z.googlevideo.com/videoplayback?expire=1591841198&ei=TT3hXsPdOpPxkgbLm4_YCg&ip=24.20.48.222&id=o-ACeYO4854hw0sAknodsO3z9joQ3vGvBHlsYVenfaHIC5&itag=18&source=youtube&requiressl=yes&mh=Xg&mm=31%2C29&mn=sn-nx5s7n7z%2Csn-nx57ynls&ms=au%2Crdu&mv=m&mvi=0&pl=15&pcm2=yes&initcwndbps=2007500&vprv=1&mime=video%2Fmp4&gir=yes&clen=4688282&ratebypass=yes&dur=58.073&lmt=1432284204913404&mt=1591819474&fvip=1&c=WEB&sparams=expire%2Cei%2Cip%2Cid%2Citag%2Csource%2Crequiressl%2Cpcm2%2Cvprv%2Cmime%2Cgir%2Cclen%2Cratebypass%2Cdur%2Clmt&sig=AOq0QJ8wRQIgZ4J3luopWorK2BQ9BZ74gnKV1mQDLfLnyNNRkY0k060CIQCCNCF-PP22Df8SFrltBN0kMyR_Pg7Uh1clxHIIvMW6mA%3D%3D&lsparams=mh%2Cmm%2Cmn%2Cms%2Cmv%2Cmvi%2Cpl%2Cinitcwndbps&lsig=AG3C_xAwRAIgGqo8fHUIe42XQ3-nd15PsOL7wz9KkM-pYhfhGXDItywCIEaH9tb998K2hs3PWfcBL_HkCdHUKuueX9JgZiiZDcO9\n",
      "\n",
      "title Relax with Sheep at Shafer Vineyards in Napa Valley - 6 hours 4K\n",
      "rating 4.9545326\n",
      "best url https://r1---sn-nx5s7n7d.googlevideo.com/videoplayback?expire=1591841198&ei=Tj3hXqO3H8yhkga3sK7ICQ&ip=24.20.48.222&id=o-AO-I4SAGPbg-7aFPyjL8hrw39RFf3g-ZIGITqztq1nkQ&itag=22&source=youtube&requiressl=yes&mh=Ax&mm=31%2C26&mn=sn-nx5s7n7d%2Csn-a5meknlz&ms=au%2Conr&mv=m&mvi=0&pl=15&initcwndbps=2055000&vprv=1&mime=video%2Fmp4&ratebypass=yes&dur=22417.867&lmt=1586086648755033&mt=1591819539&fvip=1&c=WEB&txp=6216222&sparams=expire%2Cei%2Cip%2Cid%2Citag%2Csource%2Crequiressl%2Cvprv%2Cmime%2Cratebypass%2Cdur%2Clmt&sig=AOq0QJ8wRQIhAJrJgbxPZqqk5LfNZOv-hM7uVPQoEAG-yklGeK50V9L3AiArK3YJk0bjewEYu_JhJrDSxsIahxZH2b_G8sCjtqTgLg%3D%3D&lsparams=mh%2Cmm%2Cmn%2Cms%2Cmv%2Cmvi%2Cpl%2Cinitcwndbps&lsig=AG3C_xAwRQIhANONbKkDZABEYOFyZzIrCgavXyXlY2dwAH-URMxv5REpAiB8EbH7gjVpuRI5r-V8GNIcxH_IIC_nJKUTGPuYoBanmQ%3D%3D\n"
     ]
    }
   ],
   "source": [
    "import pafy\n",
    "import youtube_dl\n",
    "\n",
    "for i in range(5):\n",
    "    video = pafy.new(df.iloc[i].url)\n",
    "    print('\\ntitle',video.title)\n",
    "#     print('description',video.description)\n",
    "    print('rating',video.rating)\n",
    "    best = video.getbest()\n",
    "    print('best url',best.url)\n"
   ]
  },
  {
   "cell_type": "code",
   "execution_count": 7,
   "metadata": {},
   "outputs": [
    {
     "name": "stdout",
     "output_type": "stream",
     "text": [
      "\n",
      "title Yard Work. New Imported Australian bloodlines to Devonairs kelpie stud.\n",
      "rating 4.4680176\n",
      "time set 10000\n",
      "get time = -1\n",
      "playing\n",
      "get time = 3652\n",
      "pausing\n",
      "time set 30000\n",
      "get time = 30000\n",
      "playing\n",
      "get time = 34713\n",
      "stop\n"
     ]
    }
   ],
   "source": [
    "import time \n",
    "import pafy\n",
    "\n",
    "volume = 50\n",
    "\n",
    "video = pafy.new(df.iloc[1].url)\n",
    "print('\\ntitle',video.title)\n",
    "print('rating',video.rating)\n",
    "best = video.getbest()\n",
    "# print('best url',best.url)\n",
    "\n",
    "media = vlc.MediaPlayer(best.url)\n",
    "# media.video_set_scale(0)\n",
    "media.set_fullscreen(1)\n",
    "# media.set_time(10000)\n",
    "# media.audio_set_mute(1)\n",
    "media.audio_set_volume(volume) # 0 - 100\n",
    "\n",
    "media.set_time(10000)\n",
    "print('time set 10000')\n",
    "print('get time =',media.get_time())\n",
    "\n",
    "print('playing')\n",
    "media.play()\n",
    "time.sleep(5)\n",
    "print('get time =',media.get_time())\n",
    "\n",
    "print('pausing')\n",
    "media.pause()\n",
    "time.sleep(2)\n",
    "\n",
    "media.set_time(30000)\n",
    "print('time set 30000')\n",
    "print('get time =',media.get_time())\n",
    "\n",
    "print('playing')\n",
    "media.play()\n",
    "time.sleep(5)\n",
    "\n",
    "print('get time =',media.get_time())\n",
    "\n",
    "print('stop')\n",
    "media.stop()\n"
   ]
  },
  {
   "cell_type": "code",
   "execution_count": 39,
   "metadata": {},
   "outputs": [],
   "source": [
    "\n",
    "starttime = 0"
   ]
  },
  {
   "cell_type": "code",
   "execution_count": 60,
   "metadata": {},
   "outputs": [
    {
     "data": {
      "text/html": [
       "<div>\n",
       "<style scoped>\n",
       "    .dataframe tbody tr th:only-of-type {\n",
       "        vertical-align: middle;\n",
       "    }\n",
       "\n",
       "    .dataframe tbody tr th {\n",
       "        vertical-align: top;\n",
       "    }\n",
       "\n",
       "    .dataframe thead th {\n",
       "        text-align: right;\n",
       "    }\n",
       "</style>\n",
       "<table border=\"1\" class=\"dataframe\">\n",
       "  <thead>\n",
       "    <tr style=\"text-align: right;\">\n",
       "      <th></th>\n",
       "      <th>search_term</th>\n",
       "      <th>url</th>\n",
       "      <th>best_url</th>\n",
       "      <th>title</th>\n",
       "      <th>rating</th>\n",
       "      <th>duration</th>\n",
       "      <th>position</th>\n",
       "    </tr>\n",
       "  </thead>\n",
       "  <tbody>\n",
       "    <tr>\n",
       "      <th>0</th>\n",
       "      <td>sheep running in field</td>\n",
       "      <td>https://www.youtube.com/watch?v=pUrYNXQIiSM</td>\n",
       "      <td>https://r4---sn-nx5e6nez.googlevideo.com/video...</td>\n",
       "      <td>Lambs running &amp; playing</td>\n",
       "      <td>5.000000</td>\n",
       "      <td>558</td>\n",
       "      <td>0</td>\n",
       "    </tr>\n",
       "    <tr>\n",
       "      <th>1</th>\n",
       "      <td>sheep running in field</td>\n",
       "      <td>https://www.youtube.com/watch?v=6hFMaRFyVSU</td>\n",
       "      <td>https://r2---sn-nx5s7n76.googlevideo.com/video...</td>\n",
       "      <td>Yard Work. New Imported Australian bloodlines ...</td>\n",
       "      <td>4.467918</td>\n",
       "      <td>231</td>\n",
       "      <td>0</td>\n",
       "    </tr>\n",
       "    <tr>\n",
       "      <th>2</th>\n",
       "      <td>sheep running in field</td>\n",
       "      <td>https://www.youtube.com/watch?v=qLDhx4SDKUI</td>\n",
       "      <td>https://r5---sn-nx57ynlz.googlevideo.com/video...</td>\n",
       "      <td>Sheep running around and saying baaaaa! | BEST...</td>\n",
       "      <td>4.930131</td>\n",
       "      <td>51</td>\n",
       "      <td>0</td>\n",
       "    </tr>\n",
       "    <tr>\n",
       "      <th>3</th>\n",
       "      <td>sheep running in field</td>\n",
       "      <td>https://www.youtube.com/watch?v=jS1HxsnhA3c</td>\n",
       "      <td>https://r1---sn-nx5s7n7z.googlevideo.com/video...</td>\n",
       "      <td>Sheep running.AVI</td>\n",
       "      <td>4.802469</td>\n",
       "      <td>58</td>\n",
       "      <td>0</td>\n",
       "    </tr>\n",
       "    <tr>\n",
       "      <th>4</th>\n",
       "      <td>sheep running in field</td>\n",
       "      <td>https://www.youtube.com/watch?v=UrKkchVOOAs</td>\n",
       "      <td>https://r1---sn-nx5s7n7d.googlevideo.com/video...</td>\n",
       "      <td>Relax with Sheep at Shafer Vineyards in Napa V...</td>\n",
       "      <td>4.954507</td>\n",
       "      <td>22418</td>\n",
       "      <td>0</td>\n",
       "    </tr>\n",
       "  </tbody>\n",
       "</table>\n",
       "</div>"
      ],
      "text/plain": [
       "               search_term                                          url  \\\n",
       "0  sheep running in field   https://www.youtube.com/watch?v=pUrYNXQIiSM   \n",
       "1  sheep running in field   https://www.youtube.com/watch?v=6hFMaRFyVSU   \n",
       "2  sheep running in field   https://www.youtube.com/watch?v=qLDhx4SDKUI   \n",
       "3  sheep running in field   https://www.youtube.com/watch?v=jS1HxsnhA3c   \n",
       "4  sheep running in field   https://www.youtube.com/watch?v=UrKkchVOOAs   \n",
       "\n",
       "                                            best_url  \\\n",
       "0  https://r4---sn-nx5e6nez.googlevideo.com/video...   \n",
       "1  https://r2---sn-nx5s7n76.googlevideo.com/video...   \n",
       "2  https://r5---sn-nx57ynlz.googlevideo.com/video...   \n",
       "3  https://r1---sn-nx5s7n7z.googlevideo.com/video...   \n",
       "4  https://r1---sn-nx5s7n7d.googlevideo.com/video...   \n",
       "\n",
       "                                               title    rating  duration  \\\n",
       "0                            Lambs running & playing  5.000000       558   \n",
       "1  Yard Work. New Imported Australian bloodlines ...  4.467918       231   \n",
       "2  Sheep running around and saying baaaaa! | BEST...  4.930131        51   \n",
       "3                                  Sheep running.AVI  4.802469        58   \n",
       "4  Relax with Sheep at Shafer Vineyards in Napa V...  4.954507     22418   \n",
       "\n",
       "   position  \n",
       "0         0  \n",
       "1         0  \n",
       "2         0  \n",
       "3         0  \n",
       "4         0  "
      ]
     },
     "execution_count": 60,
     "metadata": {},
     "output_type": "execute_result"
    }
   ],
   "source": [
    "df = pd.read_csv('youtube_videos_pl.csv')\n",
    "df.head()"
   ]
  },
  {
   "cell_type": "code",
   "execution_count": 59,
   "metadata": {},
   "outputs": [
    {
     "name": "stdout",
     "output_type": "stream",
     "text": [
      "playing\n",
      "\n",
      "time set 0\n",
      "get time = 0\n",
      "get time = 3901\n",
      "stop\n"
     ]
    }
   ],
   "source": [
    "media = vlc.MediaPlayer(best.url)\n",
    "# media = vlc.MediaPlayer(df.iloc[1].best_url)\n",
    "\n",
    "# media.video_set_scale(0)\n",
    "media.set_fullscreen(1)\n",
    "# media.set_time(10000)\n",
    "# media.audio_set_mute(1)\n",
    "media.audio_set_volume(0) # 0 - 100\n",
    "\n",
    "print('playing')\n",
    "media.play()\n",
    "\n",
    "media.set_time(starttime)\n",
    "print('\\ntime set',starttime)\n",
    "print('get time =',media.get_time())\n",
    "\n",
    "time.sleep(5)\n",
    "print('get time =',media.get_time())\n",
    "\n",
    "starttime = media.get_time()\n",
    "print('stop')\n",
    "media.stop()"
   ]
  },
  {
   "cell_type": "code",
   "execution_count": 43,
   "metadata": {},
   "outputs": [
    {
     "name": "stdout",
     "output_type": "stream",
     "text": [
      "stop\n"
     ]
    }
   ],
   "source": [
    "print('stop')\n",
    "media.stop()"
   ]
  },
  {
   "cell_type": "code",
   "execution_count": null,
   "metadata": {},
   "outputs": [],
   "source": []
  }
 ],
 "metadata": {
  "kernelspec": {
   "display_name": "Python 3",
   "language": "python",
   "name": "python3"
  },
  "language_info": {
   "codemirror_mode": {
    "name": "ipython",
    "version": 3
   },
   "file_extension": ".py",
   "mimetype": "text/x-python",
   "name": "python",
   "nbconvert_exporter": "python",
   "pygments_lexer": "ipython3",
   "version": "3.7.6"
  }
 },
 "nbformat": 4,
 "nbformat_minor": 4
}
