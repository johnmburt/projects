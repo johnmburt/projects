{
 "cells": [
  {
   "cell_type": "markdown",
   "metadata": {},
   "source": [
    "# IR rangefinder circuit test\n",
    "\n",
    "This code tests functionality of a USB interface IR rangefinder circuit that I designed for testing bird preferences. The device connects to a PC via USB as a 115k Baud serial port. It reads analog range data from two IR sensors and outputs the range values when up or down thresholds are exceeded (that is, it acts as a switch sensor that also outputs range info). Up/down threshold levels, which determine the trigger distance, are set by sending serial text commands to the device. The device also has four LED outputs, two for each IR sensor, which can be turned on or off via serial commands.\n",
    "\n",
    "#### IR sensor output looks like this:\n",
    "- \"aaaa,bbbb\\r\\n\"\n",
    "    - where a and b are integer values indicating IR level for sensors 1 & 2. Higher values = closer object\n",
    "\n",
    "#### This is the help message printed if you type 'H' in a terminal window connected to the device:\n",
    "\n",
    "<code>Help for operant device #6:\n",
    "  H = get this help message\n",
    "  N = get this device serial number\n",
    "  I = get current IR sensor levels\n",
    "  L,n,n,n,n = set LEDs 0=off,1=on, order: P1-L1, P1-L2, P2-L1, P2-L2\n",
    "  D,n = set down (high to low) IR trigger threshold\n",
    "  U,n = set up (low to high) IR trigger threshold\n",
    "  T = enter test mode\n",
    "  E = enter experiment mode (default)\n",
    "</code>\n",
    "\n",
    "Note: when sending a command, you must end the string w/ \"\\r\\n\"\n",
    "\n"
   ]
  },
  {
   "cell_type": "markdown",
   "metadata": {},
   "source": [
    "## Helper functions"
   ]
  },
  {
   "cell_type": "code",
   "execution_count": 1,
   "metadata": {},
   "outputs": [],
   "source": [
    "import time \n",
    "import serial\n",
    "\n",
    "def send_IR_command(ser, cmd):\n",
    "    \"\"\"Send a command to the IR proximity switch\"\"\"\n",
    "    ser.write(('%s\\r\\n'%(cmd)).encode('utf-8'))\n",
    "    \n",
    "def set_LED_state(ser, l1a, l1b, l2a, l2b):\n",
    "    \"\"\"Set IR proximity switch LED states\"\"\"\n",
    "    send_IR_command(ser, 'L,%d,%d,%d,%d'%(l1a,l1b,l2a,l2b))\n"
   ]
  },
  {
   "cell_type": "markdown",
   "metadata": {},
   "source": [
    "## Test the LEDs\n",
    "\n",
    "Note: The device I'm using doesn't turn on/off LEDs P1-L1 or P2-L1. Not sure why, but they aren't needed for my project anyway.\n"
   ]
  },
  {
   "cell_type": "code",
   "execution_count": 16,
   "metadata": {},
   "outputs": [],
   "source": [
    "import serial\n",
    "import time \n",
    "\n",
    "baudrate = 115200\n",
    "port = 'COM5'\n",
    "\n",
    "# in case the port was left open, try to close it\n",
    "try:\n",
    "    ser.close()\n",
    "except:\n",
    "    pass\n",
    "\n",
    "ser = serial.Serial(port, baudrate, timeout=0)\n",
    "\n",
    "# note that the first and third LEDs aren't working on \n",
    "#  the device I'm using here\n",
    "set_LED_state(ser,0,1,0,1)\n",
    "time.sleep(2)\n",
    "\n",
    "set_LED_state(ser,0,0,0,1)\n",
    "time.sleep(2)\n",
    "\n",
    "set_LED_state(ser,0,1,0,0)\n",
    "time.sleep(2)\n",
    "\n",
    "set_LED_state(ser,0,0,0,0)\n",
    "time.sleep(2)\n",
    "\n",
    "ser.close()"
   ]
  },
  {
   "cell_type": "markdown",
   "metadata": {},
   "source": [
    "## Set device to test mode\n",
    "\n",
    "In test mode, LED turns on when switch is high (on) and off when low(off). This works for both IR rangefinders."
   ]
  },
  {
   "cell_type": "code",
   "execution_count": 12,
   "metadata": {},
   "outputs": [],
   "source": [
    "def send_IR_command(ser, cmd):\n",
    "    ser.write(('%s\\r\\n'%(cmd)).encode('utf-8'))\n",
    "    \n",
    "try:\n",
    "    ser.close()\n",
    "except:\n",
    "    pass\n",
    "\n",
    "ser = serial.Serial(port, baudrate, timeout=0)\n",
    "# ser.write('t\\r\\n'.encode('utf-8'))\n",
    "send_IR_command(ser,'t')\n",
    "ser.close()"
   ]
  },
  {
   "cell_type": "markdown",
   "metadata": {},
   "source": [
    "## Set device to experiment mode (default)\n",
    "\n",
    "In experiment mode, the LEDs aren't linked to the switch levels."
   ]
  },
  {
   "cell_type": "code",
   "execution_count": 13,
   "metadata": {},
   "outputs": [],
   "source": [
    "try:\n",
    "    ser.close()\n",
    "except:\n",
    "    pass\n",
    "\n",
    "ser = serial.Serial(port, baudrate, timeout=0)\n",
    "# ser.write('e\\r\\n'.encode('utf-8'))\n",
    "send_IR_command(ser,'e')\n",
    "ser.close()"
   ]
  },
  {
   "cell_type": "markdown",
   "metadata": {},
   "source": [
    "## Switch sensor loop\n",
    "\n",
    "Baiscally replicate the device test mode in software: \n",
    "- LED on if sensor above threshold, off if below\n",
    "\n",
    "#### Code comments:\n",
    "\n",
    "\n",
    "- Periodically requests device to send current IR levels. This is necessary because sometimes a threshold state transition is not reported. To catch this, I poll periodically.\n",
    "\n",
    "\n",
    "- There is software threshold logic on top of the hardware threshold detection. This is used to reduce the tendency for the device to send out many up/down transition detections when an object is at threshold. So in software, you should only see few on/off triggerings."
   ]
  },
  {
   "cell_type": "code",
   "execution_count": 15,
   "metadata": {},
   "outputs": [
    {
     "name": "stdout",
     "output_type": "stream",
     "text": [
      "\n",
      "Stopped monitoring port\n"
     ]
    }
   ],
   "source": [
    "import serial\n",
    "import time \n",
    "\n",
    "def parse_proximity_levels(instr):\n",
    "    \"\"\"Convert 'nn,nn' string to int state levels \"\"\"\n",
    "    try:\n",
    "        s1 = int(instr.split(',')[0])\n",
    "        s2 = int(instr.split(',')[1])\n",
    "        return s1,s2\n",
    "    except:\n",
    "        return 0,0\n",
    "    \n",
    "def get_switch_state(oldstate, on_thresh, off_thresh, instr):\n",
    "    \"\"\"determine current switch state,\n",
    "      return whether state has changed, and current state\"\"\"\n",
    "    # convert \"num,num\" str into int values\n",
    "    s1,s2 = parse_proximity_levels(instr)\n",
    "    # bypass if error parsing\n",
    "    if (s1!=0) & (s2!=0):\n",
    "        newstate = oldstate.copy()\n",
    "        if s1 > on_thresh: newstate[0] = 1\n",
    "        elif s1 < off_thresh: newstate[0] = 0\n",
    "        if s2 > on_thresh: newstate[1] = 1\n",
    "        elif s2 < off_thresh: newstate[1] = 0\n",
    "        return newstate!=oldstate, newstate\n",
    "    return False, oldstate\n",
    "\n",
    "def check_IR_switch(ser, sw_state, on_thresh, off_thresh):\n",
    "    \"\"\"Poll port for device output, process it & return switch state\"\"\"\n",
    "    error = False\n",
    "    changed = False\n",
    "    # if incoming bytes are waiting to be read from the \n",
    "    #  serial input buffer\n",
    "    if ser.in_waiting > 0: \n",
    "        #read the bytes and convert from binary array to ASCII\n",
    "        while ser.in_waiting > 0:\n",
    "            data_str = ser.readline().decode('ascii') \n",
    "        # update switch on/off state, check for change\n",
    "        changed, newstate = get_switch_state(sw_state, \n",
    "                                         on_thresh, \n",
    "                                         off_thresh,\n",
    "                                         data_str)\n",
    "        # update switch state\n",
    "        if changed == True:\n",
    "            # sync LED state w/ switch state\n",
    "            # set_LED_state(ser, 0, newstate[0], 0, newstate[1])\n",
    "            sw_state = newstate\n",
    "                \n",
    "    return error, changed, sw_state \n",
    "\n",
    "# IR switch configs\n",
    "IR_threshold = 400 # hardware on/off threshold\n",
    "on_thresh = IR_threshold + 25 # software on threshold\n",
    "off_thresh =  IR_threshold - 25 # software off threshold\n",
    "check_time = 0.5 # periodic IR level check interval\n",
    "\n",
    "# state variables\n",
    "lastcheck = 0\n",
    "sw_state = [0,0] \n",
    "\n",
    "# make sure serial port of closed before trying to open it\n",
    "try:\n",
    "    ser.close()\n",
    "except:\n",
    "    pass\n",
    "\n",
    "# connect to device serial port\n",
    "#  Note: COM port # will be different on different PCs\n",
    "baudrate = 115200\n",
    "port = 'COM5'\n",
    "ser = serial.Serial(port, baudrate, timeout=0)\n",
    "\n",
    "# set device on / off switch thresholds\n",
    "send_IR_command(ser, 'u,%d'%(IR_threshold))\n",
    "send_IR_command(ser, 'd,%d'%(IR_threshold))\n",
    "\n",
    "quit = False\n",
    "while not quit:\n",
    "    try:\n",
    "        # check switch device, handle message, return state\n",
    "        quit, changed, sw_state = check_IR_switch(\n",
    "            ser, sw_state, on_thresh, off_thresh)\n",
    "        \n",
    "        # set LED to current switch state\n",
    "        if changed == True:\n",
    "            changed = False\n",
    "            set_LED_state(ser,0,sw_state[0],0,sw_state[1])\n",
    "\n",
    "        # switch is on/triggered\n",
    "        if sw_state[trigger_switch] == 1:\n",
    "            last_on_time = time.time()\n",
    "\n",
    "        # trigger an IR level report every check_time seconds.\n",
    "        #  This catches occasional missed switch threshold changes.\n",
    "        if time.time() > lastcheck + check_time:\n",
    "            send_IR_command(ser, 'i')\n",
    "            lastcheck = time.time()\n",
    "\n",
    "        time.sleep(0.01) \n",
    "        \n",
    "    # keep track of video here: check if done playing\n",
    "    except:\n",
    "        quit = True\n",
    "        \n",
    "print('\\nStopped monitoring port')\n",
    "ser.close()\n"
   ]
  },
  {
   "cell_type": "code",
   "execution_count": 180,
   "metadata": {},
   "outputs": [],
   "source": [
    "# this is here in case you need to close the port manually\n",
    "ser.close()"
   ]
  }
 ],
 "metadata": {
  "kernelspec": {
   "display_name": "Python 3",
   "language": "python",
   "name": "python3"
  },
  "language_info": {
   "codemirror_mode": {
    "name": "ipython",
    "version": 3
   },
   "file_extension": ".py",
   "mimetype": "text/x-python",
   "name": "python",
   "nbconvert_exporter": "python",
   "pygments_lexer": "ipython3",
   "version": "3.7.6"
  }
 },
 "nbformat": 4,
 "nbformat_minor": 4
}
