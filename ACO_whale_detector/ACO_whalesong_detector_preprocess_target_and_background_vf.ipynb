{
 "cells": [
  {
   "cell_type": "markdown",
   "metadata": {},
   "source": [
    "# Exploring deep sea acoustic events\n",
    "## Whale song detector: pre-process target and background audio\n",
    "\n",
    "### Feb 2020 PDSG Applied Data Science Meetup series<br>John Burt\n",
    "\n",
    "### Session details\n",
    "\n",
    "For February’s four session meetup series we’ll be working with long term hydrophone recordings from University of Hawaii's Aloha Cabled Observatory (ACO - http://aco-ssds.soest.hawaii.edu), located at a depth of 4728m off Oahu. The recordings span a year and contain many acoustic events: wave movements, the sound of rain, ship noise, possible bomb noises, geologic activity and whale calls and songs. There is a wide range of project topics to explore: identifying and counting acoustic events such as whale calls, measuring daily or seasonal noise trends, measuring wave hydrodynamics, etc.\n",
    "\n",
    "### This notebook:\n",
    "\n",
    "For model training and testing, I overlay whale song note example clips with recording background noise. In this notebook, I clean and prepare the training target sounds (whale song notes), and background sound, then save them in HDF5 files for quick loading during training runs.\n",
    "\n",
    "Packages required:\n",
    "- librosa\n"
   ]
  },
  {
   "cell_type": "code",
   "execution_count": 11,
   "metadata": {},
   "outputs": [],
   "source": [
    "# remove warnings\n",
    "import warnings\n",
    "warnings.filterwarnings('ignore')\n",
    "# ---\n",
    "\n",
    "%matplotlib inline\n",
    "from matplotlib import pyplot as plt\n",
    "import matplotlib\n",
    "matplotlib.style.use('ggplot')\n",
    "\n",
    "import pandas as pd\n",
    "pd.options.display.max_columns = 100\n",
    "\n",
    "import numpy as np\n",
    "\n",
    "import librosa\n",
    "import librosa.display\n",
    "\n",
    "import soundfile as sf\n",
    "\n"
   ]
  },
  {
   "cell_type": "markdown",
   "metadata": {},
   "source": [
    "## Read soundfile paths\n",
    "\n",
    "I'll combine waveform data from two sources: \n",
    "- background noise from the hydrophone recording, with no whalesong\n",
    "- clips of humpback whale song notes\n"
   ]
  },
  {
   "cell_type": "code",
   "execution_count": 12,
   "metadata": {},
   "outputs": [],
   "source": [
    "import os\n",
    "import fnmatch\n",
    "\n",
    "def get_pathlist(rootdir, exts):\n",
    "    # search through root folder for files w/ exts\n",
    "    paths = []\n",
    "    for ext in exts:\n",
    "        for root, dirnames, filenames in os.walk(rootdir):\n",
    "            for filename in fnmatch.filter(filenames, ext):\n",
    "                paths.append(os.path.join(root, filename).replace('\\\\','/'))\n",
    "    return paths\n",
    "\n",
    "                "
   ]
  },
  {
   "cell_type": "markdown",
   "metadata": {},
   "source": [
    "## create or read the intermediate target / background wave files\n",
    "\n",
    "I create a set of intermediate wave files, all with the selected sample rate and any other desired pre-processing. When I train and test the model, I will read these and merge them randomly to create the train/test samples. I also re-name the target file IDs for clarity.\n",
    "\n",
    "Note: humpback whales produce sounds between about 80 - 4000 Hz, but the sounds with the highest amplitudes most commonly occur at 100-2000 Hz. I've chosen a sample rate of 5000 Hz, which gets most of the whale call but reduces the memory/processing overhead.\n"
   ]
  },
  {
   "cell_type": "code",
   "execution_count": 13,
   "metadata": {},
   "outputs": [
    {
     "name": "stdout",
     "output_type": "stream",
     "text": [
      "preprocessing target samples...\n",
      "preprocessing background samples...\n",
      "Wall time: 11min 8s\n"
     ]
    }
   ],
   "source": [
    "%%time\n",
    "\n",
    "from sklearn.preprocessing import scale, minmax_scale\n",
    "\n",
    "src_target = './data/model/source/target/'\n",
    "dest_target = './data/model/preprocess/target/'\n",
    "\n",
    "src_background = './data/model/source/background/'\n",
    "dest_background = './data/model/preprocess/background/'\n",
    "\n",
    "preprocess_waves = True # True = preprocess, False = bypass \n",
    "\n",
    "samprate = 5000\n",
    "\n",
    "if preprocess_waves:\n",
    "    print('preprocessing target samples...')\n",
    "    # get paths to target sound clip files\n",
    "    paths = get_pathlist(src_target, '*.wav')\n",
    "    for i, path in zip(range(len(paths)), paths):\n",
    "        y, sr = librosa.load(path, sr=samprate)\n",
    "        sf.write(dest_target + '%04d,'%(i) + os.path.basename(path).split('.')[0]+'.wav', \n",
    "                minmax_scale(y, feature_range=(-1, 1)), sr, subtype='PCM_16')\n",
    "\n",
    "    print('preprocessing background samples...')\n",
    "    # get paths to background noise files\n",
    "    paths = get_pathlist(src_background, '*.wav')\n",
    "    for i, path in zip(range(len(paths)), paths):\n",
    "        y, sr = librosa.load(path, sr=samprate)\n",
    "        sf.write(dest_background + os.path.basename(path).split('.')[0]+'.wav', \n",
    "                minmax_scale(y, feature_range=(-1, 1)), sr, subtype='PCM_16')\n"
   ]
  },
  {
   "cell_type": "markdown",
   "metadata": {},
   "source": [
    "## Read the preprocessed sound files\n",
    "\n",
    "Read the processed target and background sound files, and save them as dataframes in HDF5 format. I do this because it will load very quickly in other notebooks where I train and test the model."
   ]
  },
  {
   "cell_type": "code",
   "execution_count": 14,
   "metadata": {},
   "outputs": [
    {
     "name": "stdout",
     "output_type": "stream",
     "text": [
      "reading target clips...\n",
      "reading background sound...\n",
      "converting to dataframe\n",
      "saving target and background dataframes\n",
      "done\n",
      "Wall time: 1min 9s\n"
     ]
    }
   ],
   "source": [
    "%%time\n",
    "\n",
    "target_wavs = []\n",
    "target_ids = []\n",
    "target_names = [] \n",
    "\n",
    "backgnd_wavs = []\n",
    "backgnd_names = []\n",
    "\n",
    "print('reading target clips...')\n",
    "paths = get_pathlist(dest_target, '*.wav')\n",
    "for path in paths:\n",
    "    target_ids.append(int(os.path.basename(path).split(',')[0]))\n",
    "    target_names.append(os.path.basename(path).split('.')[0])\n",
    "    target_wavs.append(librosa.load(path, sr=samprate)[0])\n",
    "    \n",
    "print('reading background sound...')\n",
    "paths = get_pathlist(dest_background, '*.wav')\n",
    "for path in paths:\n",
    "    backgnd_wavs.append(librosa.load(path, sr=samprate)[0])\n",
    "    backgnd_names.append(os.path.basename(path).split('.')[0])\n",
    "\n",
    "print('converting to dataframe')\n",
    "target_df = pd.DataFrame({'id':target_ids, 'name':target_names, 'wave':target_wavs})\n",
    "background_df = pd.DataFrame({'id':[-1]*len(backgnd_wavs), 'name':backgnd_names, 'wave':backgnd_wavs})\n",
    "\n",
    "print('saving target and background dataframes')\n",
    "target_df.to_hdf('./data/model/wavdata_v1.h5', key='target')\n",
    "background_df.to_hdf('./data/model/wavdata_v1.h5', key='background')\n",
    "\n",
    "print('done')"
   ]
  }
 ],
 "metadata": {
  "kernelspec": {
   "display_name": "Python 3",
   "language": "python",
   "name": "python3"
  },
  "language_info": {
   "codemirror_mode": {
    "name": "ipython",
    "version": 3
   },
   "file_extension": ".py",
   "mimetype": "text/x-python",
   "name": "python",
   "nbconvert_exporter": "python",
   "pygments_lexer": "ipython3",
   "version": "3.7.6"
  }
 },
 "nbformat": 4,
 "nbformat_minor": 2
}
