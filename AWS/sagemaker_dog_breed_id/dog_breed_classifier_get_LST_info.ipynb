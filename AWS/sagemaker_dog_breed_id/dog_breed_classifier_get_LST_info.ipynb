{
 "cells": [
  {
   "cell_type": "markdown",
   "metadata": {},
   "source": [
    "# AICamp SageMaker image classification\n",
    "\n",
    "## Get sample info on a generated LST file set\n",
    "\n",
    "\n",
    "### John Burt\n",
    "#### March 2020\n",
    "\n",
    "### Dataset:\n",
    "The [Stanford Dogs dataset](http://vision.stanford.edu/aditya86/ImageNetDogs/) contains images of 120 breeds of dogs from around the world. This dataset has been built using images and annotation from ImageNet for the task of fine-grained image categorization. Contents of this dataset:\n",
    "\n",
    "### Notebook purpose\n",
    "This notebook can be used to help set up hyperparams for a Sagemaker training job. The model will want to know number of clases, and (max) number of samples (120 categories, 20580 images).\n"
   ]
  },
  {
   "cell_type": "code",
   "execution_count": 1,
   "metadata": {},
   "outputs": [
    {
     "name": "stdout",
     "output_type": "stream",
     "text": [
      "  train: 16464 samples, 120 classes, dog_breeds_all_fold_1_train.lst\n",
      "  test: 4116 samples, 120 classes, dog_breeds_all_fold_1_test.lst\n"
     ]
    }
   ],
   "source": [
    "import pandas as pd\n",
    "import numpy as np\n",
    "\n",
    "n_splits = 1\n",
    "n_classes = None\n",
    "\n",
    "filenameroot = 'dog_breeds'\n",
    "\n",
    "# include all classes of image\n",
    "if n_classes is None:\n",
    "    filenameroot += '_all'\n",
    "# include only the specified number of classes\n",
    "else:\n",
    "    filenameroot += '_'+str(n_classes)\n",
    "\n",
    "# Create filenames to read\n",
    "fname_train = filenameroot+'_fold_1_train.lst'\n",
    "fname_test = filenameroot+'_fold_1_test.lst'\n",
    "\n",
    "# read previously generated train and test data \n",
    "df_train = pd.read_csv(fname_train, sep='\\t', \n",
    "                 names=['sampid','classid','path'])\n",
    "df_test = pd.read_csv(fname_test, sep='\\t', \n",
    "                 names=['sampid','classid','path'])\n",
    "\n",
    "print('  train: %d samples, %d classes, %s'%(\n",
    "    df_train.shape[0], len(df_train.classid.unique()), fname_train))\n",
    "print('  test: %d samples, %d classes, %s'%(\n",
    "    df_test.shape[0], len(df_test.classid.unique()), fname_test))\n"
   ]
  },
  {
   "cell_type": "code",
   "execution_count": null,
   "metadata": {},
   "outputs": [],
   "source": []
  }
 ],
 "metadata": {
  "kernelspec": {
   "display_name": "Python 3",
   "language": "python",
   "name": "python3"
  },
  "language_info": {
   "codemirror_mode": {
    "name": "ipython",
    "version": 3
   },
   "file_extension": ".py",
   "mimetype": "text/x-python",
   "name": "python",
   "nbconvert_exporter": "python",
   "pygments_lexer": "ipython3",
   "version": "3.7.6"
  }
 },
 "nbformat": 4,
 "nbformat_minor": 4
}
