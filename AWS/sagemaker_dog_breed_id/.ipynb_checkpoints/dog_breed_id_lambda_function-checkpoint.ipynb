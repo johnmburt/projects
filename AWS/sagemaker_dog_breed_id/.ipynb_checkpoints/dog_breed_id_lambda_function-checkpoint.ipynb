{
 "cells": [
  {
   "cell_type": "markdown",
   "metadata": {},
   "source": [
    "# Making a SageMaker image-classifier microservice\n",
    "\n",
    "## The Lambda function\n",
    "\n",
    "### Project for AICamp course: [Full Stack Deep Learning in AWS - Online](https://learn.xnextcon.com/course/courseDetails/C2031717)\n",
    "\n",
    "### John Burt    \n",
    "\n",
    "#### March 2020\n",
    "\n",
    "\n",
    "## The project\n",
    "For this project, the task was to create and train an image classifier using Amazon SageMaker, then deploy a classifier instance as a microservice via the AWS API Gateway. I chose to make a dog breed classifier using a set of images made available by Stanford University. \n",
    "\n",
    "### For more details, see my [project github site](https://github.com/johnmburt/projects/tree/master/AWS/sagemaker_dog_breed_id)\n",
    "\n",
    "\n",
    "## This notebook\n",
    "This is the lambda function code used by the microservice to pass received images via API posts to the model endpoint for inference. This Lambda was modified from the one presented in class to allow batches of images to be passed in one post. \n",
    "\n",
    "The environment variable ENDPOINT_NAME must be set to the desired model endpoint. In my case, the endpoint was \"jmb-dog-breed-id-all-04-08\".\n",
    "\n"
   ]
  },
  {
   "cell_type": "code",
   "execution_count": null,
   "metadata": {},
   "outputs": [],
   "source": [
    "def lambda_handler(event, context):\n",
    "    \"\"\"Pass one or more images to model for classification.\n",
    "    input is in the form of base64 strings\"\"\"\n",
    "    images = event['body']\n",
    "    # if passed only one image, then make it a list of one\n",
    "    if type(images) == str: images = [images]\n",
    "    predictions = []\n",
    "    for image in images:\n",
    "        payload = get_image_payload(image)\n",
    "        response = sgm_runtime.invoke_endpoint(EndpointName=ENDPOINT_NAME,\n",
    "                                               ContentType='application/x-image',\n",
    "                                               Body=payload)\n",
    "        predictions.append(json.loads(response['Body'].read().decode()))\n",
    "    return {\n",
    "        'statusCode': 200,\n",
    "        'body': predictions}\n"
   ]
  }
 ],
 "metadata": {
  "kernelspec": {
   "display_name": "Python 3",
   "language": "python",
   "name": "python3"
  },
  "language_info": {
   "codemirror_mode": {
    "name": "ipython",
    "version": 3
   },
   "file_extension": ".py",
   "mimetype": "text/x-python",
   "name": "python",
   "nbconvert_exporter": "python",
   "pygments_lexer": "ipython3",
   "version": "3.7.6"
  }
 },
 "nbformat": 4,
 "nbformat_minor": 4
}
